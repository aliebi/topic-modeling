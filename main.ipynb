{
  "nbformat": 4,
  "nbformat_minor": 0,
  "metadata": {
    "colab": {
      "name": "Untitled5.ipynb",
      "version": "0.3.2",
      "provenance": [],
      "include_colab_link": true
    },
    "kernelspec": {
      "name": "python3",
      "display_name": "Python 3"
    },
    "accelerator": "TPU"
  },
  "cells": [
    {
      "cell_type": "markdown",
      "metadata": {
        "id": "view-in-github",
        "colab_type": "text"
      },
      "source": [
        "<a href=\"https://colab.research.google.com/github/aliebi/topic-modeling/blob/master/main.ipynb\" target=\"_parent\"><img src=\"https://colab.research.google.com/assets/colab-badge.svg\" alt=\"Open In Colab\"/></a>"
      ]
    },
    {
      "cell_type": "markdown",
      "metadata": {
        "id": "LENz-4tb-A6X",
        "colab_type": "text"
      },
      "source": [
        "source of this code is for fastAi nlp cours"
      ]
    },
    {
      "cell_type": "markdown",
      "metadata": {
        "id": "r8RVS18w2TOn",
        "colab_type": "text"
      },
      "source": [
        "topic modeling "
      ]
    },
    {
      "cell_type": "code",
      "metadata": {
        "id": "00L3_5V4IsM6",
        "colab_type": "code",
        "colab": {}
      },
      "source": [
        "import numpy as np\n",
        "from sklearn.datasets import fetch_20newsgroups\n",
        "from sklearn import decomposition\n",
        "from scipy import linalg\n",
        "import matplotlib.pyplot as plt\n",
        "\n",
        "from sklearn.feature_extraction import stop_words"
      ],
      "execution_count": 0,
      "outputs": []
    },
    {
      "cell_type": "markdown",
      "metadata": {
        "id": "zPbiv5w9PG4m",
        "colab_type": "text"
      },
      "source": [
        "we select only some of them to compute from the whole dataset"
      ]
    },
    {
      "cell_type": "code",
      "metadata": {
        "id": "jt01Ew-ZfAED",
        "colab_type": "code",
        "colab": {}
      },
      "source": [
        "categories = ['alt.atheism', 'talk.religion.misc', 'comp.graphics', 'sci.space']\n",
        "remove = ('headers', 'footers', 'quotes')\n",
        "newsgroups_train = fetch_20newsgroups(subset='train', categories=categories, remove=remove)\n",
        "newsgroups_test = fetch_20newsgroups(subset='test', categories=categories, remove=remove)"
      ],
      "execution_count": 0,
      "outputs": []
    },
    {
      "cell_type": "code",
      "metadata": {
        "id": "kPPpm1jcfqNr",
        "colab_type": "code",
        "outputId": "af151615-94a3-4644-e66c-a24f3373c7f6",
        "colab": {
          "base_uri": "https://localhost:8080/",
          "height": 34
        }
      },
      "source": [
        "newsgroups_train.filenames.shape, newsgroups_train.target.shape"
      ],
      "execution_count": 0,
      "outputs": [
        {
          "output_type": "execute_result",
          "data": {
            "text/plain": [
              "((2034,), (2034,))"
            ]
          },
          "metadata": {
            "tags": []
          },
          "execution_count": 4
        }
      ]
    },
    {
      "cell_type": "code",
      "metadata": {
        "id": "rnsyb_xK3NiO",
        "colab_type": "code",
        "outputId": "03b9e9fc-6a49-4a89-873b-22480d774ea5",
        "colab": {
          "base_uri": "https://localhost:8080/",
          "height": 151
        }
      },
      "source": [
        "newsgroups_train.filenames"
      ],
      "execution_count": 0,
      "outputs": [
        {
          "output_type": "execute_result",
          "data": {
            "text/plain": [
              "array(['/root/scikit_learn_data/20news_home/20news-bydate-train/comp.graphics/38816',\n",
              "       '/root/scikit_learn_data/20news_home/20news-bydate-train/talk.religion.misc/83741',\n",
              "       '/root/scikit_learn_data/20news_home/20news-bydate-train/sci.space/61092',\n",
              "       ...,\n",
              "       '/root/scikit_learn_data/20news_home/20news-bydate-train/comp.graphics/38737',\n",
              "       '/root/scikit_learn_data/20news_home/20news-bydate-train/alt.atheism/53237',\n",
              "       '/root/scikit_learn_data/20news_home/20news-bydate-train/comp.graphics/38269'],\n",
              "      dtype='<U86')"
            ]
          },
          "metadata": {
            "tags": []
          },
          "execution_count": 5
        }
      ]
    },
    {
      "cell_type": "markdown",
      "metadata": {
        "id": "runOQgFsPSk_",
        "colab_type": "text"
      },
      "source": [
        "we have four topic "
      ]
    },
    {
      "cell_type": "code",
      "metadata": {
        "id": "1eZYhrls3awe",
        "colab_type": "code",
        "outputId": "318f7fa9-b60a-4efc-c670-62dbebca5674",
        "colab": {
          "base_uri": "https://localhost:8080/",
          "height": 34
        }
      },
      "source": [
        "newsgroups_train.target_names"
      ],
      "execution_count": 0,
      "outputs": [
        {
          "output_type": "execute_result",
          "data": {
            "text/plain": [
              "['alt.atheism', 'comp.graphics', 'sci.space', 'talk.religion.misc']"
            ]
          },
          "metadata": {
            "tags": []
          },
          "execution_count": 6
        }
      ]
    },
    {
      "cell_type": "code",
      "metadata": {
        "id": "GFkIjbNn37ZF",
        "colab_type": "code",
        "outputId": "f2ab0b83-a263-4580-85c4-14adac3f0473",
        "colab": {
          "base_uri": "https://localhost:8080/",
          "height": 34
        }
      },
      "source": [
        "n=len(newsgroups_train.target_names)\n",
        "print(n)"
      ],
      "execution_count": 0,
      "outputs": [
        {
          "output_type": "stream",
          "text": [
            "4\n"
          ],
          "name": "stdout"
        }
      ]
    },
    {
      "cell_type": "code",
      "metadata": {
        "id": "VlixT9HrPW3X",
        "colab_type": "code",
        "colab": {}
      },
      "source": [
        "we vectorize each topic "
      ],
      "execution_count": 0,
      "outputs": []
    },
    {
      "cell_type": "code",
      "metadata": {
        "id": "XFaK7Il83zx2",
        "colab_type": "code",
        "outputId": "44deaf76-63fd-44b2-dd64-cb59044af74d",
        "colab": {
          "base_uri": "https://localhost:8080/",
          "height": 50
        }
      },
      "source": [
        "np.array(newsgroups_train.target_names)[newsgroups_train.target[:n]]"
      ],
      "execution_count": 0,
      "outputs": [
        {
          "output_type": "execute_result",
          "data": {
            "text/plain": [
              "array(['comp.graphics', 'talk.religion.misc', 'sci.space', 'alt.atheism'],\n",
              "      dtype='<U18')"
            ]
          },
          "metadata": {
            "tags": []
          },
          "execution_count": 8
        }
      ]
    },
    {
      "cell_type": "code",
      "metadata": {
        "id": "to7TPd3r4C3N",
        "colab_type": "code",
        "outputId": "6ddec791-0b1f-434d-e52d-0a433a1a472b",
        "colab": {
          "base_uri": "https://localhost:8080/",
          "height": 101
        }
      },
      "source": [
        "newsgroups_train.target[:100]"
      ],
      "execution_count": 0,
      "outputs": [
        {
          "output_type": "execute_result",
          "data": {
            "text/plain": [
              "array([1, 3, 2, 0, 2, 0, 2, 1, 2, 1, 2, 1, 1, 2, 1, 2, 0, 2, 2, 3, 2, 1,\n",
              "       3, 3, 1, 1, 2, 1, 2, 3, 0, 3, 1, 1, 0, 2, 0, 1, 0, 2, 0, 2, 0, 1,\n",
              "       1, 0, 0, 3, 3, 3, 1, 2, 3, 2, 1, 0, 1, 1, 1, 1, 2, 0, 1, 1, 2, 1,\n",
              "       2, 0, 1, 3, 1, 2, 2, 1, 2, 1, 0, 0, 2, 1, 3, 3, 0, 3, 2, 2, 0, 2,\n",
              "       0, 3, 1, 3, 0, 2, 0, 3, 0, 3, 2, 2])"
            ]
          },
          "metadata": {
            "tags": []
          },
          "execution_count": 9
        }
      ]
    },
    {
      "cell_type": "code",
      "metadata": {
        "id": "VRNjldAy4lUO",
        "colab_type": "code",
        "colab": {}
      },
      "source": [
        "num_topics, num_top_words=6,8"
      ],
      "execution_count": 0,
      "outputs": []
    },
    {
      "cell_type": "code",
      "metadata": {
        "id": "hZBQ7SEJ5lKO",
        "colab_type": "code",
        "outputId": "ab907d91-e9f7-4383-9aee-7ed4b4ed707e",
        "colab": {
          "base_uri": "https://localhost:8080/",
          "height": 521
        }
      },
      "source": [
        "sorted(list(stop_words.ENGLISH_STOP_WORDS))[:30]"
      ],
      "execution_count": 0,
      "outputs": [
        {
          "output_type": "execute_result",
          "data": {
            "text/plain": [
              "['a',\n",
              " 'about',\n",
              " 'above',\n",
              " 'across',\n",
              " 'after',\n",
              " 'afterwards',\n",
              " 'again',\n",
              " 'against',\n",
              " 'all',\n",
              " 'almost',\n",
              " 'alone',\n",
              " 'along',\n",
              " 'already',\n",
              " 'also',\n",
              " 'although',\n",
              " 'always',\n",
              " 'am',\n",
              " 'among',\n",
              " 'amongst',\n",
              " 'amoungst',\n",
              " 'amount',\n",
              " 'an',\n",
              " 'and',\n",
              " 'another',\n",
              " 'any',\n",
              " 'anyhow',\n",
              " 'anyone',\n",
              " 'anything',\n",
              " 'anyway',\n",
              " 'anywhere']"
            ]
          },
          "metadata": {
            "tags": []
          },
          "execution_count": 11
        }
      ]
    },
    {
      "cell_type": "code",
      "metadata": {
        "id": "sVWeU3Bu6b4t",
        "colab_type": "code",
        "outputId": "44cc9833-6b2f-4ac6-9e0b-505510cc9525",
        "colab": {
          "base_uri": "https://localhost:8080/",
          "height": 50
        }
      },
      "source": [
        "import nltk\n",
        "nltk.download('wordnet')\n",
        "from nltk import stem"
      ],
      "execution_count": 0,
      "outputs": [
        {
          "output_type": "stream",
          "text": [
            "[nltk_data] Downloading package wordnet to /root/nltk_data...\n",
            "[nltk_data]   Package wordnet is already up-to-date!\n"
          ],
          "name": "stdout"
        }
      ]
    },
    {
      "cell_type": "code",
      "metadata": {
        "id": "VyWOsj3z6dol",
        "colab_type": "code",
        "colab": {}
      },
      "source": [
        "\n",
        "wnl = stem.WordNetLemmatizer()\n",
        "porter = stem.porter.PorterStemmer()"
      ],
      "execution_count": 0,
      "outputs": []
    },
    {
      "cell_type": "code",
      "metadata": {
        "id": "ZNDuN9MU7L0N",
        "colab_type": "code",
        "colab": {}
      },
      "source": [
        "\n",
        "word_list = ['feet', 'foot', 'foots', 'footing']\n",
        "# word_list=['fly', 'flies', 'flying']\n",
        "# word_list=['organize', 'organizes', 'organizing']\n",
        "# word_list=['universe','university']"
      ],
      "execution_count": 0,
      "outputs": []
    },
    {
      "cell_type": "code",
      "metadata": {
        "id": "KSYL8DFt7T-t",
        "colab_type": "code",
        "outputId": "80ee42d2-364b-4ad7-bb6c-7dd338e512ab",
        "colab": {
          "base_uri": "https://localhost:8080/",
          "height": 34
        }
      },
      "source": [
        "\n",
        "[wnl.lemmatize(word) for word in word_list]"
      ],
      "execution_count": 0,
      "outputs": [
        {
          "output_type": "execute_result",
          "data": {
            "text/plain": [
              "['foot', 'foot', 'foot', 'footing']"
            ]
          },
          "metadata": {
            "tags": []
          },
          "execution_count": 15
        }
      ]
    },
    {
      "cell_type": "code",
      "metadata": {
        "id": "nAzT6hYc7XZO",
        "colab_type": "code",
        "outputId": "5c2b03eb-f5b2-4b5c-a9ca-744c9ae27de7",
        "colab": {
          "base_uri": "https://localhost:8080/",
          "height": 34
        }
      },
      "source": [
        "[porter.stem(word) for word in word_list]"
      ],
      "execution_count": 0,
      "outputs": [
        {
          "output_type": "execute_result",
          "data": {
            "text/plain": [
              "['feet', 'foot', 'foot', 'foot']"
            ]
          },
          "metadata": {
            "tags": []
          },
          "execution_count": 16
        }
      ]
    },
    {
      "cell_type": "markdown",
      "metadata": {
        "id": "72t0kJ6A9gsu",
        "colab_type": "text"
      },
      "source": [
        "here we can see spacy lematizer that doesnt have stemmer "
      ]
    },
    {
      "cell_type": "code",
      "metadata": {
        "id": "5czNTIaW96ZY",
        "colab_type": "code",
        "outputId": "e091bc65-a4dd-432b-bede-0eb531619cc2",
        "colab": {
          "base_uri": "https://localhost:8080/",
          "height": 34
        }
      },
      "source": [
        "import spacy\n",
        "from spacy.lemmatizer import Lemmatizer\n",
        "lemmatizer = Lemmatizer()\n",
        "[lemmatizer.lookup(word) for word in word_list]"
      ],
      "execution_count": 0,
      "outputs": [
        {
          "output_type": "execute_result",
          "data": {
            "text/plain": [
              "['feet', 'foot', 'foots', 'footing']"
            ]
          },
          "metadata": {
            "tags": []
          },
          "execution_count": 17
        }
      ]
    },
    {
      "cell_type": "markdown",
      "metadata": {
        "id": "9pzX-vxo-g-3",
        "colab_type": "text"
      },
      "source": [
        "and also stopwords are different in sklearn and spacy you can compare them"
      ]
    },
    {
      "cell_type": "code",
      "metadata": {
        "id": "IGI-hlWq-gDe",
        "colab_type": "code",
        "outputId": "a7bfc8de-57b7-48c8-bcf0-191ecda0c80a",
        "colab": {
          "base_uri": "https://localhost:8080/",
          "height": 521
        }
      },
      "source": [
        "nlp = spacy.load(\"en_core_web_sm\")\n",
        "\n",
        "sorted(list(nlp.Defaults.stop_words))[:30]"
      ],
      "execution_count": 0,
      "outputs": [
        {
          "output_type": "execute_result",
          "data": {
            "text/plain": [
              "[\"'d\",\n",
              " \"'ll\",\n",
              " \"'m\",\n",
              " \"'re\",\n",
              " \"'s\",\n",
              " \"'ve\",\n",
              " 'a',\n",
              " 'about',\n",
              " 'above',\n",
              " 'across',\n",
              " 'after',\n",
              " 'afterwards',\n",
              " 'again',\n",
              " 'against',\n",
              " 'all',\n",
              " 'almost',\n",
              " 'alone',\n",
              " 'along',\n",
              " 'already',\n",
              " 'also',\n",
              " 'although',\n",
              " 'always',\n",
              " 'am',\n",
              " 'among',\n",
              " 'amongst',\n",
              " 'amount',\n",
              " 'an',\n",
              " 'and',\n",
              " 'another',\n",
              " 'any']"
            ]
          },
          "metadata": {
            "tags": []
          },
          "execution_count": 18
        }
      ]
    },
    {
      "cell_type": "code",
      "metadata": {
        "id": "X86poERgAqGX",
        "colab_type": "code",
        "outputId": "72b89ad4-c5a5-4ffe-ee54-f4d7d13de40d",
        "colab": {
          "base_uri": "https://localhost:8080/",
          "height": 34
        }
      },
      "source": [
        "from sklearn.feature_extraction.text import CountVectorizer, TfidfVectorizer\n",
        "vectorizer = CountVectorizer(stop_words='english')\n",
        "\n",
        "vectors = vectorizer.fit_transform(newsgroups_train.data).todense()\n",
        "vectors.shape"
      ],
      "execution_count": 0,
      "outputs": [
        {
          "output_type": "execute_result",
          "data": {
            "text/plain": [
              "(2034, 26576)"
            ]
          },
          "metadata": {
            "tags": []
          },
          "execution_count": 19
        }
      ]
    },
    {
      "cell_type": "code",
      "metadata": {
        "id": "oRHll8XbCKFo",
        "colab_type": "code",
        "outputId": "fb79281b-5796-460e-eda7-cdc9159edd30",
        "colab": {
          "base_uri": "https://localhost:8080/",
          "height": 34
        }
      },
      "source": [
        "vectors[0]"
      ],
      "execution_count": 0,
      "outputs": [
        {
          "output_type": "execute_result",
          "data": {
            "text/plain": [
              "matrix([[0, 0, 0, ..., 0, 0, 0]])"
            ]
          },
          "metadata": {
            "tags": []
          },
          "execution_count": 21
        }
      ]
    },
    {
      "cell_type": "markdown",
      "metadata": {
        "id": "80vMG28wBEnX",
        "colab_type": "text"
      },
      "source": [
        "here we have (2034, 26576) matrix that we have 2034 document and 26576 uniqe words as featurs we collect"
      ]
    },
    {
      "cell_type": "markdown",
      "metadata": {
        "id": "6X98jEmxBdNe",
        "colab_type": "text"
      },
      "source": [
        "we have vocabulary of words by size11314"
      ]
    },
    {
      "cell_type": "code",
      "metadata": {
        "id": "qynyp8SPBZfD",
        "colab_type": "code",
        "outputId": "54f7688b-6022-4fa3-e75f-473ce930d6b2",
        "colab": {
          "base_uri": "https://localhost:8080/",
          "height": 34
        }
      },
      "source": [
        "\n",
        "vocab = np.array(vectorizer.get_feature_names())\n",
        "vocab.shape"
      ],
      "execution_count": 0,
      "outputs": [
        {
          "output_type": "execute_result",
          "data": {
            "text/plain": [
              "(26576,)"
            ]
          },
          "metadata": {
            "tags": []
          },
          "execution_count": 20
        }
      ]
    },
    {
      "cell_type": "code",
      "metadata": {
        "id": "x0BN8TwrFo0s",
        "colab_type": "code",
        "outputId": "b53c4892-b927-4c69-b238-2ae785576ae7",
        "colab": {
          "base_uri": "https://localhost:8080/",
          "height": 50
        }
      },
      "source": [
        "%time U, s, Vh = linalg.svd(vectors, full_matrices=False)"
      ],
      "execution_count": 0,
      "outputs": [
        {
          "output_type": "stream",
          "text": [
            "CPU times: user 1min 39s, sys: 6.28 s, total: 1min 45s\n",
            "Wall time: 54 s\n"
          ],
          "name": "stdout"
        }
      ]
    },
    {
      "cell_type": "markdown",
      "metadata": {
        "id": "0CyfD-5oMwQT",
        "colab_type": "text"
      },
      "source": [
        "here \n",
        "U is each document per n topic \n",
        "s is the topic by topic model n*n \n",
        "Vh is n topic by vocab "
      ]
    },
    {
      "cell_type": "code",
      "metadata": {
        "id": "VTYSreveHmj_",
        "colab_type": "code",
        "outputId": "290a5359-ce45-468a-a5d0-c431fe0f8d6e",
        "colab": {
          "base_uri": "https://localhost:8080/",
          "height": 34
        }
      },
      "source": [
        "np.diag(Vh[:4])"
      ],
      "execution_count": 0,
      "outputs": [
        {
          "output_type": "execute_result",
          "data": {
            "text/plain": [
              "array([-9.40971949e-03, -1.76916681e-02, -2.33939629e-05, -7.80408114e-05])"
            ]
          },
          "metadata": {
            "tags": []
          },
          "execution_count": 25
        }
      ]
    },
    {
      "cell_type": "code",
      "metadata": {
        "id": "h-eYx0yqHgxv",
        "colab_type": "code",
        "outputId": "80d93a14-979e-4a1b-f4c4-c96fefb7f23a",
        "colab": {
          "base_uri": "https://localhost:8080/",
          "height": 34
        }
      },
      "source": [
        "np.diag(U[:4])"
      ],
      "execution_count": 0,
      "outputs": [
        {
          "output_type": "execute_result",
          "data": {
            "text/plain": [
              "array([-0.00477991, -0.00017499, -0.00083183,  0.00371775])"
            ]
          },
          "metadata": {
            "tags": []
          },
          "execution_count": 24
        }
      ]
    },
    {
      "cell_type": "code",
      "metadata": {
        "id": "n-zyjRhAHck9",
        "colab_type": "code",
        "outputId": "4d76f6e2-ec0c-453c-fb2d-7418143c1b8f",
        "colab": {
          "base_uri": "https://localhost:8080/",
          "height": 84
        }
      },
      "source": [
        "np.diag(s[:4])"
      ],
      "execution_count": 0,
      "outputs": [
        {
          "output_type": "execute_result",
          "data": {
            "text/plain": [
              "array([[433.92698542,   0.        ,   0.        ,   0.        ],\n",
              "       [  0.        , 291.51012741,   0.        ,   0.        ],\n",
              "       [  0.        ,   0.        , 240.71137677,   0.        ],\n",
              "       [  0.        ,   0.        ,   0.        , 220.00048043]])"
            ]
          },
          "metadata": {
            "tags": []
          },
          "execution_count": 23
        }
      ]
    },
    {
      "cell_type": "markdown",
      "metadata": {
        "id": "kK4qjH2NIzpA",
        "colab_type": "text"
      },
      "source": [
        "now we can check is these matrics are true "
      ]
    },
    {
      "cell_type": "code",
      "metadata": {
        "id": "uvi8lI-DIzKY",
        "colab_type": "code",
        "outputId": "3b7ebe3a-c745-4bcd-9bca-b3da4ead9d02",
        "colab": {
          "base_uri": "https://localhost:8080/",
          "height": 34
        }
      },
      "source": [
        "reconstructr_vect=U @ np.diag(s) @ Vh\n",
        "np.allclose(reconstructr_vect,vectors)"
      ],
      "execution_count": 0,
      "outputs": [
        {
          "output_type": "execute_result",
          "data": {
            "text/plain": [
              "True"
            ]
          },
          "metadata": {
            "tags": []
          },
          "execution_count": 31
        }
      ]
    },
    {
      "cell_type": "code",
      "metadata": {
        "id": "Nruk1aRPJqzI",
        "colab_type": "code",
        "colab": {}
      },
      "source": [
        ""
      ],
      "execution_count": 0,
      "outputs": []
    },
    {
      "cell_type": "code",
      "metadata": {
        "id": "tnUfLD_8L9Tm",
        "colab_type": "code",
        "colab": {}
      },
      "source": [
        "\n",
        "num_top_words=8\n",
        "\n",
        "def show_topics(a):\n",
        "    top_words = lambda t: [vocab[i] for i in np.argsort(t)[:-num_top_words-1:-1]]\n",
        "    topic_words = ([top_words(t) for t in a])\n",
        "    return [' '.join(t) for t in topic_words]"
      ],
      "execution_count": 0,
      "outputs": []
    },
    {
      "cell_type": "code",
      "metadata": {
        "id": "2JE1jt7HL9_g",
        "colab_type": "code",
        "outputId": "6e1c0acf-c1b6-4a0a-d22f-56649f9aae20",
        "colab": {
          "base_uri": "https://localhost:8080/",
          "height": 185
        }
      },
      "source": [
        "\n",
        "show_topics(Vh[:10])"
      ],
      "execution_count": 0,
      "outputs": [
        {
          "output_type": "execute_result",
          "data": {
            "text/plain": [
              "['ditto critus propagandist surname galacticentric kindergarten surreal imaginative',\n",
              " 'jpeg gif file color quality image jfif format',\n",
              " 'graphics edu pub mail 128 3d ray ftp',\n",
              " 'jesus god matthew people atheists atheism does graphics',\n",
              " 'image data processing analysis software available tools display',\n",
              " 'god atheists atheism religious believe religion argument true',\n",
              " 'space nasa lunar mars probe moon missions probes',\n",
              " 'image probe surface lunar mars probes moon orbit',\n",
              " 'argument fallacy conclusion example true ad argumentum premises',\n",
              " 'space larson image theory universe physical nasa material']"
            ]
          },
          "metadata": {
            "tags": []
          },
          "execution_count": 33
        }
      ]
    },
    {
      "cell_type": "markdown",
      "metadata": {
        "id": "NXtHKLNiNub6",
        "colab_type": "text"
      },
      "source": [
        "in the next part we talk about "
      ]
    },
    {
      "cell_type": "code",
      "metadata": {
        "id": "SGAJ39jfbdf9",
        "colab_type": "code",
        "outputId": "986bc3c1-e1eb-4808-faf8-9a98e1abd7a2",
        "colab": {
          "base_uri": "https://localhost:8080/",
          "height": 101
        }
      },
      "source": [
        "m,n=vectors.shape\n",
        "d=5  # num topics\n",
        "\n",
        "clf = decomposition.NMF(n_components=d, random_state=1)\n",
        "\n",
        "W1 = clf.fit_transform(vectors)\n",
        "H1 = clf.components_\n",
        "show_topics(H1)"
      ],
      "execution_count": 0,
      "outputs": [
        {
          "output_type": "execute_result",
          "data": {
            "text/plain": [
              "['jpeg image gif file color images format quality',\n",
              " 'edu graphics pub mail 128 ray ftp send',\n",
              " 'space launch satellite nasa commercial satellites year market',\n",
              " 'jesus god people matthew atheists does atheism said',\n",
              " 'image data available software processing ftp edu analysis']"
            ]
          },
          "metadata": {
            "tags": []
          },
          "execution_count": 34
        }
      ]
    },
    {
      "cell_type": "markdown",
      "metadata": {
        "id": "s6Y66cC2eZSy",
        "colab_type": "text"
      },
      "source": [
        "we create model by countvectorize and now we can make it by tf-idf "
      ]
    },
    {
      "cell_type": "code",
      "metadata": {
        "id": "ivqWYY_ZeZFf",
        "colab_type": "code",
        "outputId": "88f5aad1-85ba-4722-dc86-57991fd70ee1",
        "colab": {
          "base_uri": "https://localhost:8080/",
          "height": 50
        }
      },
      "source": [
        "vectorizer_tfidf = TfidfVectorizer(stop_words='english')\n",
        "vectors_tfidf = vectorizer_tfidf.fit_transform(newsgroups_train.data) # (documents, vocab)\n",
        "vectors_tfidf"
      ],
      "execution_count": 0,
      "outputs": [
        {
          "output_type": "execute_result",
          "data": {
            "text/plain": [
              "<2034x26576 sparse matrix of type '<class 'numpy.float64'>'\n",
              "\twith 133634 stored elements in Compressed Sparse Row format>"
            ]
          },
          "metadata": {
            "tags": []
          },
          "execution_count": 36
        }
      ]
    },
    {
      "cell_type": "code",
      "metadata": {
        "id": "GisTDuClfzWM",
        "colab_type": "code",
        "outputId": "5c76a2f2-0763-4c8c-f6af-c256e7e56108",
        "colab": {
          "base_uri": "https://localhost:8080/",
          "height": 101
        }
      },
      "source": [
        "W1 = clf.fit_transform(vectors_tfidf)\n",
        "H1 = clf.components_\n",
        "show_topics(H1)"
      ],
      "execution_count": 0,
      "outputs": [
        {
          "output_type": "execute_result",
          "data": {
            "text/plain": [
              "['people don think just like objective say morality',\n",
              " 'graphics thanks files image file program windows know',\n",
              " 'space nasa launch shuttle orbit moon lunar earth',\n",
              " 'ico bobbe tek beauchaine bronx manhattan sank queens',\n",
              " 'god jesus bible believe christian atheism does belief']"
            ]
          },
          "metadata": {
            "tags": []
          },
          "execution_count": 37
        }
      ]
    }
  ]
}